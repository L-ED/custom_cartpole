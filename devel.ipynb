{
 "cells": [
  {
   "cell_type": "code",
   "execution_count": 4,
   "metadata": {},
   "outputs": [],
   "source": [
    "import gymnasium"
   ]
  },
  {
   "cell_type": "code",
   "execution_count": 5,
   "metadata": {},
   "outputs": [],
   "source": [
    "env = gymnasium.make(\"CartPole-v1\")"
   ]
  },
  {
   "cell_type": "code",
   "execution_count": 7,
   "metadata": {},
   "outputs": [
    {
     "name": "stderr",
     "output_type": "stream",
     "text": [
      "/home/led/miniconda3/lib/python3.11/site-packages/gymnasium/envs/classic_control/cartpole.py:215: UserWarning: \u001b[33mWARN: You are calling render method without specifying any render mode. You can specify the render_mode at initialization, e.g. gym.make(\"CartPole-v1\", render_mode=\"rgb_array\")\u001b[0m\n",
      "  gym.logger.warn(\n"
     ]
    }
   ],
   "source": [
    "env.reset()\n",
    "env.render()"
   ]
  },
  {
   "cell_type": "code",
   "execution_count": 36,
   "metadata": {},
   "outputs": [
    {
     "data": {
      "text/plain": [
       "()"
      ]
     },
     "execution_count": 36,
     "metadata": {},
     "output_type": "execute_result"
    }
   ],
   "source": [
    "env.action_space.shape"
   ]
  },
  {
   "cell_type": "code",
   "execution_count": 1,
   "metadata": {},
   "outputs": [],
   "source": [
    "import torch"
   ]
  },
  {
   "cell_type": "code",
   "execution_count": 9,
   "metadata": {},
   "outputs": [
    {
     "data": {
      "text/plain": [
       "1.4142135623730951"
      ]
     },
     "execution_count": 9,
     "metadata": {},
     "output_type": "execute_result"
    }
   ],
   "source": [
    "torch.nn.init.calculate_gain('relu')"
   ]
  },
  {
   "cell_type": "code",
   "execution_count": 86,
   "metadata": {},
   "outputs": [],
   "source": [
    "a = torch.zeros(0, 4)"
   ]
  },
  {
   "cell_type": "code",
   "execution_count": 87,
   "metadata": {},
   "outputs": [
    {
     "data": {
      "text/plain": [
       "tensor([], size=(0, 4))"
      ]
     },
     "execution_count": 87,
     "metadata": {},
     "output_type": "execute_result"
    }
   ],
   "source": [
    "a"
   ]
  },
  {
   "cell_type": "code",
   "execution_count": 117,
   "metadata": {},
   "outputs": [],
   "source": [
    "b = torch.tensor(\n",
    "    # [1]\n",
    "    [1, 2, 3]\n",
    "    )"
   ]
  },
  {
   "cell_type": "code",
   "execution_count": 47,
   "metadata": {},
   "outputs": [
    {
     "data": {
      "text/plain": [
       "tensor(1)"
      ]
     },
     "execution_count": 47,
     "metadata": {},
     "output_type": "execute_result"
    }
   ],
   "source": [
    "torch.squeeze(b, -1) "
   ]
  },
  {
   "cell_type": "code",
   "execution_count": 116,
   "metadata": {},
   "outputs": [
    {
     "data": {
      "text/plain": [
       "tensor([[1]])"
      ]
     },
     "execution_count": 116,
     "metadata": {},
     "output_type": "execute_result"
    }
   ],
   "source": [
    "torch.tensor(\n",
    "    # [1]\n",
    "    [1]\n",
    "    ).unsqueeze(dim=0)"
   ]
  },
  {
   "cell_type": "code",
   "execution_count": 121,
   "metadata": {},
   "outputs": [
    {
     "data": {
      "text/plain": [
       "tensor([1, 2, 3, 1, 2, 3])"
      ]
     },
     "execution_count": 121,
     "metadata": {},
     "output_type": "execute_result"
    }
   ],
   "source": [
    "torch.cat((b, b), dim=0)"
   ]
  },
  {
   "cell_type": "code",
   "execution_count": 19,
   "metadata": {},
   "outputs": [
    {
     "data": {
      "text/plain": [
       "array([4, 3, 2, 1])"
      ]
     },
     "execution_count": 19,
     "metadata": {},
     "output_type": "execute_result"
    }
   ],
   "source": [
    "b.numpy()[::-1]"
   ]
  },
  {
   "cell_type": "code",
   "execution_count": 22,
   "metadata": {},
   "outputs": [
    {
     "data": {
      "text/plain": [
       "tensor([4, 3, 2, 1])"
      ]
     },
     "execution_count": 22,
     "metadata": {},
     "output_type": "execute_result"
    }
   ],
   "source": [
    "b.flip(0)"
   ]
  },
  {
   "cell_type": "code",
   "execution_count": 20,
   "metadata": {},
   "outputs": [],
   "source": [
    "import numpy as np"
   ]
  },
  {
   "cell_type": "code",
   "execution_count": 54,
   "metadata": {},
   "outputs": [
    {
     "ename": "TypeError",
     "evalue": "'tuple' object cannot be interpreted as an integer",
     "output_type": "error",
     "traceback": [
      "\u001b[0;31m---------------------------------------------------------------------------\u001b[0m",
      "\u001b[0;31mTypeError\u001b[0m                                 Traceback (most recent call last)",
      "Cell \u001b[0;32mIn[54], line 1\u001b[0m\n\u001b[0;32m----> 1\u001b[0m \u001b[43mnp\u001b[49m\u001b[38;5;241;43m.\u001b[39;49m\u001b[43mzeros\u001b[49m\u001b[43m(\u001b[49m\u001b[43m(\u001b[49m\u001b[38;5;241;43m0\u001b[39;49m\u001b[43m,\u001b[49m\u001b[43m \u001b[49m\u001b[43menv\u001b[49m\u001b[38;5;241;43m.\u001b[39;49m\u001b[43maction_space\u001b[49m\u001b[38;5;241;43m.\u001b[39;49m\u001b[43mshape\u001b[49m\u001b[43m)\u001b[49m\u001b[43m)\u001b[49m\n",
      "\u001b[0;31mTypeError\u001b[0m: 'tuple' object cannot be interpreted as an integer"
     ]
    }
   ],
   "source": [
    "np.zeros((0, env.action_space.shape))"
   ]
  },
  {
   "cell_type": "code",
   "execution_count": 65,
   "metadata": {},
   "outputs": [
    {
     "ename": "ValueError",
     "evalue": "zero-dimensional arrays cannot be concatenated",
     "output_type": "error",
     "traceback": [
      "\u001b[0;31m---------------------------------------------------------------------------\u001b[0m",
      "\u001b[0;31mValueError\u001b[0m                                Traceback (most recent call last)",
      "Cell \u001b[0;32mIn[65], line 1\u001b[0m\n\u001b[0;32m----> 1\u001b[0m \u001b[43mnp\u001b[49m\u001b[38;5;241;43m.\u001b[39;49m\u001b[43mconcatenate\u001b[49m\u001b[43m(\u001b[49m\u001b[43m(\u001b[49m\n\u001b[1;32m      2\u001b[0m \u001b[43m    \u001b[49m\u001b[38;5;66;43;03m# np.array([1]),\u001b[39;49;00m\n\u001b[1;32m      3\u001b[0m \u001b[43m    \u001b[49m\u001b[38;5;66;43;03m# np.zeros(0), \u001b[39;49;00m\n\u001b[1;32m      4\u001b[0m \u001b[43m    \u001b[49m\u001b[43mnp\u001b[49m\u001b[38;5;241;43m.\u001b[39;49m\u001b[43marray\u001b[49m\u001b[43m(\u001b[49m\u001b[38;5;241;43m1\u001b[39;49m\u001b[43m)\u001b[49m\u001b[43m,\u001b[49m\n\u001b[1;32m      5\u001b[0m \u001b[43m    \u001b[49m\u001b[43mnp\u001b[49m\u001b[38;5;241;43m.\u001b[39;49m\u001b[43marray\u001b[49m\u001b[43m(\u001b[49m\u001b[38;5;241;43m0\u001b[39;49m\u001b[43m)\u001b[49m\n\u001b[1;32m      6\u001b[0m \u001b[43m)\u001b[49m\u001b[43m,\u001b[49m\u001b[43m \u001b[49m\u001b[43maxis\u001b[49m\u001b[38;5;241;43m=\u001b[39;49m\u001b[38;5;241;43m0\u001b[39;49m\u001b[43m)\u001b[49m\n",
      "\u001b[0;31mValueError\u001b[0m: zero-dimensional arrays cannot be concatenated"
     ]
    }
   ],
   "source": [
    "np.concatenate((\n",
    "    # np.array([1]),\n",
    "    # np.zeros(0), \n",
    "    np.array(1),\n",
    "    np.array(0)\n",
    "), axis=0)"
   ]
  },
  {
   "cell_type": "code",
   "execution_count": 36,
   "metadata": {},
   "outputs": [
    {
     "data": {
      "text/plain": [
       "[1, 2, 3, 1, 2, 3, 1, 2, 3]"
      ]
     },
     "execution_count": 36,
     "metadata": {},
     "output_type": "execute_result"
    }
   ],
   "source": [
    "a = [1, 2,3]\n",
    "a.extend(a*2)\n",
    "a"
   ]
  },
  {
   "cell_type": "code",
   "execution_count": 28,
   "metadata": {},
   "outputs": [
    {
     "data": {
      "text/plain": [
       "array([1.])"
      ]
     },
     "execution_count": 28,
     "metadata": {},
     "output_type": "execute_result"
    }
   ],
   "source": [
    "np.append(np.zeros(0), 1)"
   ]
  },
  {
   "cell_type": "code",
   "execution_count": 17,
   "metadata": {},
   "outputs": [],
   "source": [
    "import scipy"
   ]
  },
  {
   "cell_type": "code",
   "execution_count": 24,
   "metadata": {},
   "outputs": [],
   "source": [
    "out = scipy.signal.lfilter([1], [1, float(-1)], b.flip(0), axis=0)[::-1]"
   ]
  },
  {
   "cell_type": "code",
   "execution_count": 25,
   "metadata": {},
   "outputs": [
    {
     "data": {
      "text/plain": [
       "numpy.ndarray"
      ]
     },
     "execution_count": 25,
     "metadata": {},
     "output_type": "execute_result"
    }
   ],
   "source": [
    "out"
   ]
  },
  {
   "cell_type": "code",
   "execution_count": 16,
   "metadata": {},
   "outputs": [],
   "source": [
    "import scipy"
   ]
  },
  {
   "cell_type": "code",
   "execution_count": 10,
   "metadata": {},
   "outputs": [
    {
     "data": {
      "text/plain": [
       "Discrete(2)"
      ]
     },
     "execution_count": 10,
     "metadata": {},
     "output_type": "execute_result"
    }
   ],
   "source": [
    "env.action_space"
   ]
  },
  {
   "cell_type": "code",
   "execution_count": 66,
   "metadata": {},
   "outputs": [],
   "source": [
    "from agent import ActorCritic"
   ]
  },
  {
   "cell_type": "code",
   "execution_count": 67,
   "metadata": {},
   "outputs": [],
   "source": [
    "from torchviz import make_dot"
   ]
  },
  {
   "cell_type": "code",
   "execution_count": 68,
   "metadata": {},
   "outputs": [],
   "source": [
    "agent = ActorCritic(\n",
    "    env.observation_space,\n",
    "    env.action_space,\n",
    ")"
   ]
  },
  {
   "cell_type": "code",
   "execution_count": 71,
   "metadata": {},
   "outputs": [
    {
     "data": {
      "text/plain": [
       "(4,)"
      ]
     },
     "execution_count": 71,
     "metadata": {},
     "output_type": "execute_result"
    }
   ],
   "source": [
    "env.observation_space.shape"
   ]
  },
  {
   "cell_type": "code",
   "execution_count": 73,
   "metadata": {},
   "outputs": [],
   "source": [
    "out = agent.step(torch.rand(4))"
   ]
  },
  {
   "cell_type": "code",
   "execution_count": 79,
   "metadata": {},
   "outputs": [
    {
     "data": {
      "text/plain": [
       "ActorCritic(\n",
       "  (policy): MLP(\n",
       "    (stem): Sequential(\n",
       "      (0): Linear(in_features=4, out_features=64, bias=True)\n",
       "      (1): Linear(in_features=64, out_features=64, bias=True)\n",
       "      (2): Linear(in_features=64, out_features=2, bias=True)\n",
       "    )\n",
       "  )\n",
       "  (value): MLP(\n",
       "    (stem): Sequential(\n",
       "      (0): Linear(in_features=4, out_features=64, bias=True)\n",
       "      (1): Linear(in_features=64, out_features=64, bias=True)\n",
       "      (2): Linear(in_features=64, out_features=1, bias=True)\n",
       "    )\n",
       "  )\n",
       ")"
      ]
     },
     "execution_count": 79,
     "metadata": {},
     "output_type": "execute_result"
    }
   ],
   "source": [
    "agent"
   ]
  },
  {
   "cell_type": "code",
   "execution_count": 78,
   "metadata": {},
   "outputs": [
    {
     "data": {
      "image/svg+xml": [
       "<?xml version=\"1.0\" encoding=\"UTF-8\" standalone=\"no\"?>\n",
       "<!DOCTYPE svg PUBLIC \"-//W3C//DTD SVG 1.1//EN\"\n",
       " \"http://www.w3.org/Graphics/SVG/1.1/DTD/svg11.dtd\">\n",
       "<!-- Generated by graphviz version 2.43.0 (0)\n",
       " -->\n",
       "<!-- Title: %3 Pages: 1 -->\n",
       "<svg width=\"459pt\" height=\"864pt\"\n",
       " viewBox=\"0.00 0.00 458.78 864.00\" xmlns=\"http://www.w3.org/2000/svg\" xmlns:xlink=\"http://www.w3.org/1999/xlink\">\n",
       "<g id=\"graph0\" class=\"graph\" transform=\"scale(1.29 1.29) rotate(0) translate(4 1109)\">\n",
       "<title>%3</title>\n",
       "<polygon fill=\"white\" stroke=\"transparent\" points=\"-4,4 -4,-1109 587,-1109 587,4 -4,4\"/>\n",
       "<!-- 140160675554048 -->\n",
       "<g id=\"node1\" class=\"node\">\n",
       "<title>140160675554048</title>\n",
       "<polygon fill=\"#caff70\" stroke=\"black\" points=\"496.5,-31 442.5,-31 442.5,0 496.5,0 496.5,-31\"/>\n",
       "<text text-anchor=\"middle\" x=\"469.5\" y=\"-7\" font-family=\"monospace\" font-size=\"10.00\"> ()</text>\n",
       "</g>\n",
       "<!-- 140160667908992 -->\n",
       "<g id=\"node2\" class=\"node\">\n",
       "<title>140160667908992</title>\n",
       "<polygon fill=\"lightgrey\" stroke=\"black\" points=\"475,-92 362,-92 362,-73 475,-73 475,-92\"/>\n",
       "<text text-anchor=\"middle\" x=\"418.5\" y=\"-80\" font-family=\"monospace\" font-size=\"10.00\">SqueezeBackward1</text>\n",
       "</g>\n",
       "<!-- 140160667908992&#45;&gt;140160675554048 -->\n",
       "<g id=\"edge31\" class=\"edge\">\n",
       "<title>140160667908992&#45;&gt;140160675554048</title>\n",
       "<path fill=\"none\" stroke=\"black\" d=\"M425.38,-72.73C432.12,-64.15 442.67,-50.69 451.77,-39.1\"/>\n",
       "<polygon fill=\"black\" stroke=\"black\" points=\"454.64,-41.11 458.06,-31.08 449.13,-36.79 454.64,-41.11\"/>\n",
       "</g>\n",
       "<!-- 140160667909520 -->\n",
       "<g id=\"node3\" class=\"node\">\n",
       "<title>140160667909520</title>\n",
       "<polygon fill=\"lightgrey\" stroke=\"black\" points=\"523,-153 416,-153 416,-134 523,-134 523,-153\"/>\n",
       "<text text-anchor=\"middle\" x=\"469.5\" y=\"-141\" font-family=\"monospace\" font-size=\"10.00\">GatherBackward0</text>\n",
       "</g>\n",
       "<!-- 140160667909520&#45;&gt;140160667908992 -->\n",
       "<g id=\"edge1\" class=\"edge\">\n",
       "<title>140160667909520&#45;&gt;140160667908992</title>\n",
       "<path fill=\"none\" stroke=\"black\" d=\"M461.97,-133.79C454.29,-124.91 442.18,-110.89 432.69,-99.91\"/>\n",
       "<polygon fill=\"black\" stroke=\"black\" points=\"435.24,-97.52 426.06,-92.24 429.95,-102.1 435.24,-97.52\"/>\n",
       "</g>\n",
       "<!-- 140160675545488 -->\n",
       "<g id=\"node32\" class=\"node\">\n",
       "<title>140160675545488</title>\n",
       "<polygon fill=\"#a2cd5a\" stroke=\"black\" points=\"547.5,-98 493.5,-98 493.5,-67 547.5,-67 547.5,-98\"/>\n",
       "<text text-anchor=\"middle\" x=\"520.5\" y=\"-74\" font-family=\"monospace\" font-size=\"10.00\"> (1)</text>\n",
       "</g>\n",
       "<!-- 140160667909520&#45;&gt;140160675545488 -->\n",
       "<g id=\"edge32\" class=\"edge\">\n",
       "<title>140160667909520&#45;&gt;140160675545488</title>\n",
       "<path fill=\"none\" stroke=\"black\" d=\"M477.03,-133.79C483.35,-126.48 492.67,-115.7 501.06,-105.99\"/>\n",
       "<polygon fill=\"black\" stroke=\"black\" points=\"503.91,-108.05 507.8,-98.19 498.61,-103.47 503.91,-108.05\"/>\n",
       "</g>\n",
       "<!-- 140160667909328 -->\n",
       "<g id=\"node4\" class=\"node\">\n",
       "<title>140160667909328</title>\n",
       "<polygon fill=\"lightgrey\" stroke=\"black\" points=\"514,-208 425,-208 425,-189 514,-189 514,-208\"/>\n",
       "<text text-anchor=\"middle\" x=\"469.5\" y=\"-196\" font-family=\"monospace\" font-size=\"10.00\">SubBackward0</text>\n",
       "</g>\n",
       "<!-- 140160667909328&#45;&gt;140160667909520 -->\n",
       "<g id=\"edge2\" class=\"edge\">\n",
       "<title>140160667909328&#45;&gt;140160667909520</title>\n",
       "<path fill=\"none\" stroke=\"black\" d=\"M469.5,-188.75C469.5,-181.8 469.5,-171.85 469.5,-163.13\"/>\n",
       "<polygon fill=\"black\" stroke=\"black\" points=\"473,-163.09 469.5,-153.09 466,-163.09 473,-163.09\"/>\n",
       "</g>\n",
       "<!-- 140160667909760 -->\n",
       "<g id=\"node5\" class=\"node\">\n",
       "<title>140160667909760</title>\n",
       "<polygon fill=\"lightgrey\" stroke=\"black\" points=\"514,-318 425,-318 425,-299 514,-299 514,-318\"/>\n",
       "<text text-anchor=\"middle\" x=\"469.5\" y=\"-306\" font-family=\"monospace\" font-size=\"10.00\">AddBackward0</text>\n",
       "</g>\n",
       "<!-- 140160667909760&#45;&gt;140160667909328 -->\n",
       "<g id=\"edge3\" class=\"edge\">\n",
       "<title>140160667909760&#45;&gt;140160667909328</title>\n",
       "<path fill=\"none\" stroke=\"black\" d=\"M462.87,-298.88C456.74,-290.32 448.04,-276.54 444.5,-263 440.29,-246.92 448.2,-229.4 456.21,-216.85\"/>\n",
       "<polygon fill=\"black\" stroke=\"black\" points=\"459.31,-218.52 462.16,-208.32 453.57,-214.52 459.31,-218.52\"/>\n",
       "</g>\n",
       "<!-- 140160667908944 -->\n",
       "<g id=\"node31\" class=\"node\">\n",
       "<title>140160667908944</title>\n",
       "<polygon fill=\"lightgrey\" stroke=\"black\" points=\"578,-263 453,-263 453,-244 578,-244 578,-263\"/>\n",
       "<text text-anchor=\"middle\" x=\"515.5\" y=\"-251\" font-family=\"monospace\" font-size=\"10.00\">LogsumexpBackward0</text>\n",
       "</g>\n",
       "<!-- 140160667909760&#45;&gt;140160667908944 -->\n",
       "<g id=\"edge30\" class=\"edge\">\n",
       "<title>140160667909760&#45;&gt;140160667908944</title>\n",
       "<path fill=\"none\" stroke=\"black\" d=\"M477.1,-298.75C483.66,-291.18 493.32,-280.05 501.31,-270.84\"/>\n",
       "<polygon fill=\"black\" stroke=\"black\" points=\"504.13,-272.94 508.05,-263.09 498.85,-268.35 504.13,-272.94\"/>\n",
       "</g>\n",
       "<!-- 140160667908800 -->\n",
       "<g id=\"node6\" class=\"node\">\n",
       "<title>140160667908800</title>\n",
       "<polygon fill=\"lightgrey\" stroke=\"black\" points=\"464,-373 351,-373 351,-354 464,-354 464,-373\"/>\n",
       "<text text-anchor=\"middle\" x=\"407.5\" y=\"-361\" font-family=\"monospace\" font-size=\"10.00\">SqueezeBackward4</text>\n",
       "</g>\n",
       "<!-- 140160667908800&#45;&gt;140160667909760 -->\n",
       "<g id=\"edge4\" class=\"edge\">\n",
       "<title>140160667908800&#45;&gt;140160667909760</title>\n",
       "<path fill=\"none\" stroke=\"black\" d=\"M417.46,-353.98C426.63,-346.15 440.44,-334.34 451.53,-324.86\"/>\n",
       "<polygon fill=\"black\" stroke=\"black\" points=\"454.03,-327.33 459.36,-318.17 449.48,-322.01 454.03,-327.33\"/>\n",
       "</g>\n",
       "<!-- 140160667976080 -->\n",
       "<g id=\"node7\" class=\"node\">\n",
       "<title>140160667976080</title>\n",
       "<polygon fill=\"lightgrey\" stroke=\"black\" points=\"449,-434 366,-434 366,-415 449,-415 449,-434\"/>\n",
       "<text text-anchor=\"middle\" x=\"407.5\" y=\"-422\" font-family=\"monospace\" font-size=\"10.00\">MmBackward0</text>\n",
       "</g>\n",
       "<!-- 140160667976080&#45;&gt;140160667908800 -->\n",
       "<g id=\"edge5\" class=\"edge\">\n",
       "<title>140160667976080&#45;&gt;140160667908800</title>\n",
       "<path fill=\"none\" stroke=\"black\" d=\"M407.5,-414.79C407.5,-406.6 407.5,-394.06 407.5,-383.55\"/>\n",
       "<polygon fill=\"black\" stroke=\"black\" points=\"411,-383.24 407.5,-373.24 404,-383.24 411,-383.24\"/>\n",
       "</g>\n",
       "<!-- 140160667977184 -->\n",
       "<g id=\"node8\" class=\"node\">\n",
       "<title>140160667977184</title>\n",
       "<polygon fill=\"lightgrey\" stroke=\"black\" points=\"411,-495 286,-495 286,-476 411,-476 411,-495\"/>\n",
       "<text text-anchor=\"middle\" x=\"348.5\" y=\"-483\" font-family=\"monospace\" font-size=\"10.00\">UnsqueezeBackward0</text>\n",
       "</g>\n",
       "<!-- 140160667977184&#45;&gt;140160667976080 -->\n",
       "<g id=\"edge6\" class=\"edge\">\n",
       "<title>140160667977184&#45;&gt;140160667976080</title>\n",
       "<path fill=\"none\" stroke=\"black\" d=\"M357.21,-475.79C366.18,-466.82 380.38,-452.62 391.41,-441.59\"/>\n",
       "<polygon fill=\"black\" stroke=\"black\" points=\"394.16,-443.79 398.76,-434.24 389.21,-438.84 394.16,-443.79\"/>\n",
       "</g>\n",
       "<!-- 140160667978288 -->\n",
       "<g id=\"node9\" class=\"node\">\n",
       "<title>140160667978288</title>\n",
       "<polygon fill=\"lightgrey\" stroke=\"black\" points=\"393,-550 304,-550 304,-531 393,-531 393,-550\"/>\n",
       "<text text-anchor=\"middle\" x=\"348.5\" y=\"-538\" font-family=\"monospace\" font-size=\"10.00\">AddBackward0</text>\n",
       "</g>\n",
       "<!-- 140160667978288&#45;&gt;140160667977184 -->\n",
       "<g id=\"edge7\" class=\"edge\">\n",
       "<title>140160667978288&#45;&gt;140160667977184</title>\n",
       "<path fill=\"none\" stroke=\"black\" d=\"M348.5,-530.75C348.5,-523.8 348.5,-513.85 348.5,-505.13\"/>\n",
       "<polygon fill=\"black\" stroke=\"black\" points=\"352,-505.09 348.5,-495.09 345,-505.09 352,-505.09\"/>\n",
       "</g>\n",
       "<!-- 140160667977328 -->\n",
       "<g id=\"node10\" class=\"node\">\n",
       "<title>140160667977328</title>\n",
       "<polygon fill=\"lightgrey\" stroke=\"black\" points=\"289,-611 176,-611 176,-592 289,-592 289,-611\"/>\n",
       "<text text-anchor=\"middle\" x=\"232.5\" y=\"-599\" font-family=\"monospace\" font-size=\"10.00\">SqueezeBackward4</text>\n",
       "</g>\n",
       "<!-- 140160667977328&#45;&gt;140160667978288 -->\n",
       "<g id=\"edge8\" class=\"edge\">\n",
       "<title>140160667977328&#45;&gt;140160667978288</title>\n",
       "<path fill=\"none\" stroke=\"black\" d=\"M249.62,-591.79C268.83,-582.02 300.22,-566.05 322.48,-554.73\"/>\n",
       "<polygon fill=\"black\" stroke=\"black\" points=\"324.36,-557.7 331.69,-550.05 321.19,-551.46 324.36,-557.7\"/>\n",
       "</g>\n",
       "<!-- 140160667977472 -->\n",
       "<g id=\"node11\" class=\"node\">\n",
       "<title>140160667977472</title>\n",
       "<polygon fill=\"lightgrey\" stroke=\"black\" points=\"274,-678 191,-678 191,-659 274,-659 274,-678\"/>\n",
       "<text text-anchor=\"middle\" x=\"232.5\" y=\"-666\" font-family=\"monospace\" font-size=\"10.00\">MmBackward0</text>\n",
       "</g>\n",
       "<!-- 140160667977472&#45;&gt;140160667977328 -->\n",
       "<g id=\"edge9\" class=\"edge\">\n",
       "<title>140160667977472&#45;&gt;140160667977328</title>\n",
       "<path fill=\"none\" stroke=\"black\" d=\"M232.5,-658.73C232.5,-649.18 232.5,-633.62 232.5,-621.28\"/>\n",
       "<polygon fill=\"black\" stroke=\"black\" points=\"236,-621.13 232.5,-611.13 229,-621.13 236,-621.13\"/>\n",
       "</g>\n",
       "<!-- 140160667978240 -->\n",
       "<g id=\"node12\" class=\"node\">\n",
       "<title>140160667978240</title>\n",
       "<polygon fill=\"lightgrey\" stroke=\"black\" points=\"236,-739 111,-739 111,-720 236,-720 236,-739\"/>\n",
       "<text text-anchor=\"middle\" x=\"173.5\" y=\"-727\" font-family=\"monospace\" font-size=\"10.00\">UnsqueezeBackward0</text>\n",
       "</g>\n",
       "<!-- 140160667978240&#45;&gt;140160667977472 -->\n",
       "<g id=\"edge10\" class=\"edge\">\n",
       "<title>140160667978240&#45;&gt;140160667977472</title>\n",
       "<path fill=\"none\" stroke=\"black\" d=\"M182.21,-719.79C191.18,-710.82 205.38,-696.62 216.41,-685.59\"/>\n",
       "<polygon fill=\"black\" stroke=\"black\" points=\"219.16,-687.79 223.76,-678.24 214.21,-682.84 219.16,-687.79\"/>\n",
       "</g>\n",
       "<!-- 140160667977664 -->\n",
       "<g id=\"node13\" class=\"node\">\n",
       "<title>140160667977664</title>\n",
       "<polygon fill=\"lightgrey\" stroke=\"black\" points=\"218,-794 129,-794 129,-775 218,-775 218,-794\"/>\n",
       "<text text-anchor=\"middle\" x=\"173.5\" y=\"-782\" font-family=\"monospace\" font-size=\"10.00\">AddBackward0</text>\n",
       "</g>\n",
       "<!-- 140160667977664&#45;&gt;140160667978240 -->\n",
       "<g id=\"edge11\" class=\"edge\">\n",
       "<title>140160667977664&#45;&gt;140160667978240</title>\n",
       "<path fill=\"none\" stroke=\"black\" d=\"M173.5,-774.75C173.5,-767.8 173.5,-757.85 173.5,-749.13\"/>\n",
       "<polygon fill=\"black\" stroke=\"black\" points=\"177,-749.09 173.5,-739.09 170,-749.09 177,-749.09\"/>\n",
       "</g>\n",
       "<!-- 140160667976752 -->\n",
       "<g id=\"node14\" class=\"node\">\n",
       "<title>140160667976752</title>\n",
       "<polygon fill=\"lightgrey\" stroke=\"black\" points=\"113,-855 0,-855 0,-836 113,-836 113,-855\"/>\n",
       "<text text-anchor=\"middle\" x=\"56.5\" y=\"-843\" font-family=\"monospace\" font-size=\"10.00\">SqueezeBackward4</text>\n",
       "</g>\n",
       "<!-- 140160667976752&#45;&gt;140160667977664 -->\n",
       "<g id=\"edge12\" class=\"edge\">\n",
       "<title>140160667976752&#45;&gt;140160667977664</title>\n",
       "<path fill=\"none\" stroke=\"black\" d=\"M73.51,-835.92C92.92,-826.13 124.89,-810.01 147.44,-798.64\"/>\n",
       "<polygon fill=\"black\" stroke=\"black\" points=\"149.11,-801.72 156.47,-794.09 145.96,-795.47 149.11,-801.72\"/>\n",
       "</g>\n",
       "<!-- 140160667979056 -->\n",
       "<g id=\"node15\" class=\"node\">\n",
       "<title>140160667979056</title>\n",
       "<polygon fill=\"lightgrey\" stroke=\"black\" points=\"98,-922 15,-922 15,-903 98,-903 98,-922\"/>\n",
       "<text text-anchor=\"middle\" x=\"56.5\" y=\"-910\" font-family=\"monospace\" font-size=\"10.00\">MmBackward0</text>\n",
       "</g>\n",
       "<!-- 140160667979056&#45;&gt;140160667976752 -->\n",
       "<g id=\"edge13\" class=\"edge\">\n",
       "<title>140160667979056&#45;&gt;140160667976752</title>\n",
       "<path fill=\"none\" stroke=\"black\" d=\"M56.5,-902.73C56.5,-893.18 56.5,-877.62 56.5,-865.28\"/>\n",
       "<polygon fill=\"black\" stroke=\"black\" points=\"60,-865.13 56.5,-855.13 53,-865.13 60,-865.13\"/>\n",
       "</g>\n",
       "<!-- 140160667979200 -->\n",
       "<g id=\"node16\" class=\"node\">\n",
       "<title>140160667979200</title>\n",
       "<polygon fill=\"lightgrey\" stroke=\"black\" points=\"95,-983 18,-983 18,-964 95,-964 95,-983\"/>\n",
       "<text text-anchor=\"middle\" x=\"56.5\" y=\"-971\" font-family=\"monospace\" font-size=\"10.00\">TBackward0</text>\n",
       "</g>\n",
       "<!-- 140160667979200&#45;&gt;140160667979056 -->\n",
       "<g id=\"edge14\" class=\"edge\">\n",
       "<title>140160667979200&#45;&gt;140160667979056</title>\n",
       "<path fill=\"none\" stroke=\"black\" d=\"M56.5,-963.79C56.5,-955.6 56.5,-943.06 56.5,-932.55\"/>\n",
       "<polygon fill=\"black\" stroke=\"black\" points=\"60,-932.24 56.5,-922.24 53,-932.24 60,-932.24\"/>\n",
       "</g>\n",
       "<!-- 140160667977568 -->\n",
       "<g id=\"node17\" class=\"node\">\n",
       "<title>140160667977568</title>\n",
       "<polygon fill=\"lightgrey\" stroke=\"black\" points=\"107,-1038 6,-1038 6,-1019 107,-1019 107,-1038\"/>\n",
       "<text text-anchor=\"middle\" x=\"56.5\" y=\"-1026\" font-family=\"monospace\" font-size=\"10.00\">AccumulateGrad</text>\n",
       "</g>\n",
       "<!-- 140160667977568&#45;&gt;140160667979200 -->\n",
       "<g id=\"edge15\" class=\"edge\">\n",
       "<title>140160667977568&#45;&gt;140160667979200</title>\n",
       "<path fill=\"none\" stroke=\"black\" d=\"M56.5,-1018.75C56.5,-1011.8 56.5,-1001.85 56.5,-993.13\"/>\n",
       "<polygon fill=\"black\" stroke=\"black\" points=\"60,-993.09 56.5,-983.09 53,-993.09 60,-993.09\"/>\n",
       "</g>\n",
       "<!-- 140160673148640 -->\n",
       "<g id=\"node18\" class=\"node\">\n",
       "<title>140160673148640</title>\n",
       "<polygon fill=\"lightblue\" stroke=\"black\" points=\"89,-1105 24,-1105 24,-1074 89,-1074 89,-1105\"/>\n",
       "<text text-anchor=\"middle\" x=\"56.5\" y=\"-1081\" font-family=\"monospace\" font-size=\"10.00\"> (64, 4)</text>\n",
       "</g>\n",
       "<!-- 140160673148640&#45;&gt;140160667977568 -->\n",
       "<g id=\"edge16\" class=\"edge\">\n",
       "<title>140160673148640&#45;&gt;140160667977568</title>\n",
       "<path fill=\"none\" stroke=\"black\" d=\"M56.5,-1073.92C56.5,-1066.22 56.5,-1056.69 56.5,-1048.43\"/>\n",
       "<polygon fill=\"black\" stroke=\"black\" points=\"60,-1048.25 56.5,-1038.25 53,-1048.25 60,-1048.25\"/>\n",
       "</g>\n",
       "<!-- 140160667976512 -->\n",
       "<g id=\"node19\" class=\"node\">\n",
       "<title>140160667976512</title>\n",
       "<polygon fill=\"lightgrey\" stroke=\"black\" points=\"232,-855 131,-855 131,-836 232,-836 232,-855\"/>\n",
       "<text text-anchor=\"middle\" x=\"181.5\" y=\"-843\" font-family=\"monospace\" font-size=\"10.00\">AccumulateGrad</text>\n",
       "</g>\n",
       "<!-- 140160667976512&#45;&gt;140160667977664 -->\n",
       "<g id=\"edge17\" class=\"edge\">\n",
       "<title>140160667976512&#45;&gt;140160667977664</title>\n",
       "<path fill=\"none\" stroke=\"black\" d=\"M180.32,-835.79C179.2,-827.52 177.47,-814.79 176.04,-804.21\"/>\n",
       "<polygon fill=\"black\" stroke=\"black\" points=\"179.5,-803.68 174.69,-794.24 172.56,-804.62 179.5,-803.68\"/>\n",
       "</g>\n",
       "<!-- 140160673240304 -->\n",
       "<g id=\"node20\" class=\"node\">\n",
       "<title>140160673240304</title>\n",
       "<polygon fill=\"lightblue\" stroke=\"black\" points=\"208.5,-928 154.5,-928 154.5,-897 208.5,-897 208.5,-928\"/>\n",
       "<text text-anchor=\"middle\" x=\"181.5\" y=\"-904\" font-family=\"monospace\" font-size=\"10.00\"> (64)</text>\n",
       "</g>\n",
       "<!-- 140160673240304&#45;&gt;140160667976512 -->\n",
       "<g id=\"edge18\" class=\"edge\">\n",
       "<title>140160673240304&#45;&gt;140160667976512</title>\n",
       "<path fill=\"none\" stroke=\"black\" d=\"M181.5,-896.75C181.5,-887.39 181.5,-875.19 181.5,-865.16\"/>\n",
       "<polygon fill=\"black\" stroke=\"black\" points=\"185,-865.02 181.5,-855.02 178,-865.02 185,-865.02\"/>\n",
       "</g>\n",
       "<!-- 140160667978336 -->\n",
       "<g id=\"node21\" class=\"node\">\n",
       "<title>140160667978336</title>\n",
       "<polygon fill=\"lightgrey\" stroke=\"black\" points=\"331,-739 254,-739 254,-720 331,-720 331,-739\"/>\n",
       "<text text-anchor=\"middle\" x=\"292.5\" y=\"-727\" font-family=\"monospace\" font-size=\"10.00\">TBackward0</text>\n",
       "</g>\n",
       "<!-- 140160667978336&#45;&gt;140160667977472 -->\n",
       "<g id=\"edge19\" class=\"edge\">\n",
       "<title>140160667978336&#45;&gt;140160667977472</title>\n",
       "<path fill=\"none\" stroke=\"black\" d=\"M283.65,-719.79C274.43,-710.73 259.79,-696.34 248.54,-685.27\"/>\n",
       "<polygon fill=\"black\" stroke=\"black\" points=\"250.97,-682.76 241.39,-678.24 246.07,-687.75 250.97,-682.76\"/>\n",
       "</g>\n",
       "<!-- 140160667978000 -->\n",
       "<g id=\"node22\" class=\"node\">\n",
       "<title>140160667978000</title>\n",
       "<polygon fill=\"lightgrey\" stroke=\"black\" points=\"343,-794 242,-794 242,-775 343,-775 343,-794\"/>\n",
       "<text text-anchor=\"middle\" x=\"292.5\" y=\"-782\" font-family=\"monospace\" font-size=\"10.00\">AccumulateGrad</text>\n",
       "</g>\n",
       "<!-- 140160667978000&#45;&gt;140160667978336 -->\n",
       "<g id=\"edge20\" class=\"edge\">\n",
       "<title>140160667978000&#45;&gt;140160667978336</title>\n",
       "<path fill=\"none\" stroke=\"black\" d=\"M292.5,-774.75C292.5,-767.8 292.5,-757.85 292.5,-749.13\"/>\n",
       "<polygon fill=\"black\" stroke=\"black\" points=\"296,-749.09 292.5,-739.09 289,-749.09 296,-749.09\"/>\n",
       "</g>\n",
       "<!-- 140160673966480 -->\n",
       "<g id=\"node23\" class=\"node\">\n",
       "<title>140160673966480</title>\n",
       "<polygon fill=\"lightblue\" stroke=\"black\" points=\"328,-861 257,-861 257,-830 328,-830 328,-861\"/>\n",
       "<text text-anchor=\"middle\" x=\"292.5\" y=\"-837\" font-family=\"monospace\" font-size=\"10.00\"> (64, 64)</text>\n",
       "</g>\n",
       "<!-- 140160673966480&#45;&gt;140160667978000 -->\n",
       "<g id=\"edge21\" class=\"edge\">\n",
       "<title>140160673966480&#45;&gt;140160667978000</title>\n",
       "<path fill=\"none\" stroke=\"black\" d=\"M292.5,-829.92C292.5,-822.22 292.5,-812.69 292.5,-804.43\"/>\n",
       "<polygon fill=\"black\" stroke=\"black\" points=\"296,-804.25 292.5,-794.25 289,-804.25 296,-804.25\"/>\n",
       "</g>\n",
       "<!-- 140160667975792 -->\n",
       "<g id=\"node24\" class=\"node\">\n",
       "<title>140160667975792</title>\n",
       "<polygon fill=\"lightgrey\" stroke=\"black\" points=\"408,-611 307,-611 307,-592 408,-592 408,-611\"/>\n",
       "<text text-anchor=\"middle\" x=\"357.5\" y=\"-599\" font-family=\"monospace\" font-size=\"10.00\">AccumulateGrad</text>\n",
       "</g>\n",
       "<!-- 140160667975792&#45;&gt;140160667978288 -->\n",
       "<g id=\"edge22\" class=\"edge\">\n",
       "<title>140160667975792&#45;&gt;140160667978288</title>\n",
       "<path fill=\"none\" stroke=\"black\" d=\"M356.17,-591.79C354.91,-583.52 352.97,-570.79 351.35,-560.21\"/>\n",
       "<polygon fill=\"black\" stroke=\"black\" points=\"354.8,-559.6 349.83,-550.24 347.88,-560.65 354.8,-559.6\"/>\n",
       "</g>\n",
       "<!-- 140160683104832 -->\n",
       "<g id=\"node25\" class=\"node\">\n",
       "<title>140160683104832</title>\n",
       "<polygon fill=\"lightblue\" stroke=\"black\" points=\"384.5,-684 330.5,-684 330.5,-653 384.5,-653 384.5,-684\"/>\n",
       "<text text-anchor=\"middle\" x=\"357.5\" y=\"-660\" font-family=\"monospace\" font-size=\"10.00\"> (64)</text>\n",
       "</g>\n",
       "<!-- 140160683104832&#45;&gt;140160667975792 -->\n",
       "<g id=\"edge23\" class=\"edge\">\n",
       "<title>140160683104832&#45;&gt;140160667975792</title>\n",
       "<path fill=\"none\" stroke=\"black\" d=\"M357.5,-652.75C357.5,-643.39 357.5,-631.19 357.5,-621.16\"/>\n",
       "<polygon fill=\"black\" stroke=\"black\" points=\"361,-621.02 357.5,-611.02 354,-621.02 361,-621.02\"/>\n",
       "</g>\n",
       "<!-- 140160667976560 -->\n",
       "<g id=\"node26\" class=\"node\">\n",
       "<title>140160667976560</title>\n",
       "<polygon fill=\"lightgrey\" stroke=\"black\" points=\"506,-495 429,-495 429,-476 506,-476 506,-495\"/>\n",
       "<text text-anchor=\"middle\" x=\"467.5\" y=\"-483\" font-family=\"monospace\" font-size=\"10.00\">TBackward0</text>\n",
       "</g>\n",
       "<!-- 140160667976560&#45;&gt;140160667976080 -->\n",
       "<g id=\"edge24\" class=\"edge\">\n",
       "<title>140160667976560&#45;&gt;140160667976080</title>\n",
       "<path fill=\"none\" stroke=\"black\" d=\"M458.65,-475.79C449.43,-466.73 434.79,-452.34 423.54,-441.27\"/>\n",
       "<polygon fill=\"black\" stroke=\"black\" points=\"425.97,-438.76 416.39,-434.24 421.07,-443.75 425.97,-438.76\"/>\n",
       "</g>\n",
       "<!-- 140160667977616 -->\n",
       "<g id=\"node27\" class=\"node\">\n",
       "<title>140160667977616</title>\n",
       "<polygon fill=\"lightgrey\" stroke=\"black\" points=\"518,-550 417,-550 417,-531 518,-531 518,-550\"/>\n",
       "<text text-anchor=\"middle\" x=\"467.5\" y=\"-538\" font-family=\"monospace\" font-size=\"10.00\">AccumulateGrad</text>\n",
       "</g>\n",
       "<!-- 140160667977616&#45;&gt;140160667976560 -->\n",
       "<g id=\"edge25\" class=\"edge\">\n",
       "<title>140160667977616&#45;&gt;140160667976560</title>\n",
       "<path fill=\"none\" stroke=\"black\" d=\"M467.5,-530.75C467.5,-523.8 467.5,-513.85 467.5,-505.13\"/>\n",
       "<polygon fill=\"black\" stroke=\"black\" points=\"471,-505.09 467.5,-495.09 464,-505.09 471,-505.09\"/>\n",
       "</g>\n",
       "<!-- 140160673150640 -->\n",
       "<g id=\"node28\" class=\"node\">\n",
       "<title>140160673150640</title>\n",
       "<polygon fill=\"lightblue\" stroke=\"black\" points=\"500,-617 435,-617 435,-586 500,-586 500,-617\"/>\n",
       "<text text-anchor=\"middle\" x=\"467.5\" y=\"-593\" font-family=\"monospace\" font-size=\"10.00\"> (2, 64)</text>\n",
       "</g>\n",
       "<!-- 140160673150640&#45;&gt;140160667977616 -->\n",
       "<g id=\"edge26\" class=\"edge\">\n",
       "<title>140160673150640&#45;&gt;140160667977616</title>\n",
       "<path fill=\"none\" stroke=\"black\" d=\"M467.5,-585.92C467.5,-578.22 467.5,-568.69 467.5,-560.43\"/>\n",
       "<polygon fill=\"black\" stroke=\"black\" points=\"471,-560.25 467.5,-550.25 464,-560.25 471,-560.25\"/>\n",
       "</g>\n",
       "<!-- 140160667975744 -->\n",
       "<g id=\"node29\" class=\"node\">\n",
       "<title>140160667975744</title>\n",
       "<polygon fill=\"lightgrey\" stroke=\"black\" points=\"583,-373 482,-373 482,-354 583,-354 583,-373\"/>\n",
       "<text text-anchor=\"middle\" x=\"532.5\" y=\"-361\" font-family=\"monospace\" font-size=\"10.00\">AccumulateGrad</text>\n",
       "</g>\n",
       "<!-- 140160667975744&#45;&gt;140160667909760 -->\n",
       "<g id=\"edge27\" class=\"edge\">\n",
       "<title>140160667975744&#45;&gt;140160667909760</title>\n",
       "<path fill=\"none\" stroke=\"black\" d=\"M522.38,-353.98C513.06,-346.15 499.03,-334.34 487.76,-324.86\"/>\n",
       "<polygon fill=\"black\" stroke=\"black\" points=\"489.71,-321.93 479.81,-318.17 485.21,-327.29 489.71,-321.93\"/>\n",
       "</g>\n",
       "<!-- 140160673144640 -->\n",
       "<g id=\"node30\" class=\"node\">\n",
       "<title>140160673144640</title>\n",
       "<polygon fill=\"lightblue\" stroke=\"black\" points=\"559.5,-440 505.5,-440 505.5,-409 559.5,-409 559.5,-440\"/>\n",
       "<text text-anchor=\"middle\" x=\"532.5\" y=\"-416\" font-family=\"monospace\" font-size=\"10.00\"> (2)</text>\n",
       "</g>\n",
       "<!-- 140160673144640&#45;&gt;140160667975744 -->\n",
       "<g id=\"edge28\" class=\"edge\">\n",
       "<title>140160673144640&#45;&gt;140160667975744</title>\n",
       "<path fill=\"none\" stroke=\"black\" d=\"M532.5,-408.92C532.5,-401.22 532.5,-391.69 532.5,-383.43\"/>\n",
       "<polygon fill=\"black\" stroke=\"black\" points=\"536,-383.25 532.5,-373.25 529,-383.25 536,-383.25\"/>\n",
       "</g>\n",
       "<!-- 140160667908944&#45;&gt;140160667909328 -->\n",
       "<g id=\"edge29\" class=\"edge\">\n",
       "<title>140160667908944&#45;&gt;140160667909328</title>\n",
       "<path fill=\"none\" stroke=\"black\" d=\"M507.9,-243.75C501.34,-236.18 491.68,-225.05 483.69,-215.84\"/>\n",
       "<polygon fill=\"black\" stroke=\"black\" points=\"486.15,-213.35 476.95,-208.09 480.87,-217.94 486.15,-213.35\"/>\n",
       "</g>\n",
       "<!-- 140160675545488&#45;&gt;140160675554048 -->\n",
       "<g id=\"edge33\" class=\"edge\">\n",
       "<title>140160675545488&#45;&gt;140160675554048</title>\n",
       "<path fill=\"none\" stroke=\"black\" stroke-dasharray=\"1,5\" d=\"M508.93,-66.75C502.54,-58.61 494.46,-48.32 487.29,-39.17\"/>\n",
       "<polygon fill=\"black\" stroke=\"black\" points=\"489.95,-36.9 481.03,-31.19 484.45,-41.22 489.95,-36.9\"/>\n",
       "</g>\n",
       "</g>\n",
       "</svg>\n"
      ],
      "text/plain": [
       "<graphviz.graphs.Digraph at 0x7f79b298ad50>"
      ]
     },
     "execution_count": 78,
     "metadata": {},
     "output_type": "execute_result"
    }
   ],
   "source": [
    "make_dot(out[-1])"
   ]
  }
 ],
 "metadata": {
  "kernelspec": {
   "display_name": "base",
   "language": "python",
   "name": "python3"
  },
  "language_info": {
   "codemirror_mode": {
    "name": "ipython",
    "version": 3
   },
   "file_extension": ".py",
   "mimetype": "text/x-python",
   "name": "python",
   "nbconvert_exporter": "python",
   "pygments_lexer": "ipython3",
   "version": "3.11.4"
  }
 },
 "nbformat": 4,
 "nbformat_minor": 2
}
